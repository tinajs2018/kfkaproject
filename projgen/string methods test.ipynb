{
 "cells": [
  {
   "cell_type": "code",
   "execution_count": 2,
   "id": "af8ad2ff",
   "metadata": {},
   "outputs": [],
   "source": [
    "z=\"christine  i win win this battle for you\"\n",
    "x=\"i can\""
   ]
  },
  {
   "cell_type": "code",
   "execution_count": 6,
   "id": "c987272d",
   "metadata": {},
   "outputs": [
    {
     "data": {
      "text/plain": [
       "'christine  i win win this battle for you i can'"
      ]
     },
     "execution_count": 6,
     "metadata": {},
     "output_type": "execute_result"
    }
   ],
   "source": [
    "y=z + \" \"+ x\n",
    "y"
   ]
  },
  {
   "cell_type": "code",
   "execution_count": 9,
   "id": "097235a3",
   "metadata": {},
   "outputs": [
    {
     "data": {
      "text/plain": [
       "False"
      ]
     },
     "execution_count": 9,
     "metadata": {},
     "output_type": "execute_result"
    }
   ],
   "source": [
    "\"b\"  not in z"
   ]
  },
  {
   "cell_type": "code",
   "execution_count": 10,
   "id": "f1f22ab1",
   "metadata": {},
   "outputs": [
    {
     "data": {
      "text/plain": [
       "'i can'"
      ]
     },
     "execution_count": 10,
     "metadata": {},
     "output_type": "execute_result"
    }
   ],
   "source": [
    "format(x)"
   ]
  },
  {
   "cell_type": "code",
   "execution_count": 12,
   "id": "fc3f005d",
   "metadata": {},
   "outputs": [
    {
     "data": {
      "text/plain": [
       "2"
      ]
     },
     "execution_count": 12,
     "metadata": {},
     "output_type": "execute_result"
    }
   ],
   "source": [
    "name= 'karimi'\n",
    "name.count('i')"
   ]
  },
  {
   "cell_type": "code",
   "execution_count": 16,
   "id": "9db2a26e",
   "metadata": {},
   "outputs": [
    {
     "name": "stdout",
     "output_type": "stream",
     "text": [
      "1\n",
      "1\n",
      "1\n",
      "1\n",
      "1\n",
      "1\n",
      "1\n",
      "1\n",
      "1\n"
     ]
    }
   ],
   "source": [
    "test='christien'\n",
    "\n",
    "for i in test:\n",
    "    countz=i.count(i)\n",
    "    print(countz)\n"
   ]
  },
  {
   "cell_type": "code",
   "execution_count": null,
   "id": "6f17d094",
   "metadata": {},
   "outputs": [],
   "source": []
  }
 ],
 "metadata": {
  "kernelspec": {
   "display_name": "Python 3 (ipykernel)",
   "language": "python",
   "name": "python3"
  },
  "language_info": {
   "codemirror_mode": {
    "name": "ipython",
    "version": 3
   },
   "file_extension": ".py",
   "mimetype": "text/x-python",
   "name": "python",
   "nbconvert_exporter": "python",
   "pygments_lexer": "ipython3",
   "version": "3.11.5"
  }
 },
 "nbformat": 4,
 "nbformat_minor": 5
}
